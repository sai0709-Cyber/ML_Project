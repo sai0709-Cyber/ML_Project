{
 "cells": [
  {
   "cell_type": "code",
   "execution_count": 11,
   "id": "d66a88d0-a555-491f-b9d1-3b9d90c478d9",
   "metadata": {
    "scrolled": true
   },
   "outputs": [
    {
     "name": "stdout",
     "output_type": "stream",
     "text": [
      "✅ Parsed 68 result blocks.\n",
      "📁 Data saved to: C:\\Users\\LAB\\Desktop\\Python\\parsed_results.csv\n",
      "   run_id  tot_def_max  tot_def_avg  x_def_max  x_def_avg    s1_max    s1_avg  \\\n",
      "0       1     0.000010     0.000005        0.0  -0.000005  124193.1 -64998.09   \n",
      "1       2     0.000011     0.000005        0.0  -0.000005  124193.1 -39895.79   \n",
      "2       3     0.000011     0.000004        0.0  -0.000004  124193.1 -27295.23   \n",
      "3       4     0.000013     0.000005        0.0  -0.000005  124193.1 -26539.59   \n",
      "4       5     0.000013     0.000004        0.0  -0.000004  124193.1 -24952.02   \n",
      "\n",
      "      s3_max     s3_avg     vm_max     vm_avg  \n",
      "0 -6282208.0 -7159536.0  7954681.0  7070638.0  \n",
      "1 -4550446.0 -5930775.0  7954681.0  5877711.0  \n",
      "2 -1650550.0 -4360132.0  7954681.0  4324082.0  \n",
      "3 -1650550.0 -4645311.0  7954681.0  4610287.0  \n",
      "4 -1650550.0 -4332891.0  7954681.0  4300142.0  \n"
     ]
    }
   ],
   "source": [
    "import re\n",
    "import pandas as pd\n",
    "from pathlib import Path\n",
    "\n",
    "# 🔍 Regex pattern for scientific notation like 1.234e-05\n",
    "float_pat = r\"[-+]?\\d\\.\\d+e[-+]\\d{2}\"\n",
    "\n",
    "# 🔢 Store parsed blocks\n",
    "rows = []\n",
    "run_id = 0\n",
    "\n",
    "# 📁 Input + Output paths\n",
    "input_file = Path(r\"C:\\Users\\LAB\\Desktop\\Python\\beam_sim_01072025_003140\\resultsummary.txt\")\n",
    "output_csv = Path(r\"C:\\Users\\LAB\\Desktop\\Python\\parsed_results.csv\")\n",
    "\n",
    "# 📄 Read and parse the resultsummary.txt file\n",
    "with input_file.open(\"r\") as f:\n",
    "    for line in f:\n",
    "        if line.startswith(\"--- Result\"):\n",
    "            run_id += 1\n",
    "            cur = {\"run_id\": run_id}\n",
    "            continue\n",
    "\n",
    "        m = re.match(rf\"Total Deformation.*max=({float_pat}), avg=({float_pat})\", line)\n",
    "        if m:\n",
    "            cur[\"tot_def_max\"] = float(m.group(1))\n",
    "            cur[\"tot_def_avg\"] = float(m.group(2))\n",
    "            continue\n",
    "\n",
    "        m = re.match(rf\"X.*max=({float_pat}), avg=({float_pat})\", line)\n",
    "        if m:\n",
    "            cur[\"x_def_max\"] = float(m.group(1))\n",
    "            cur[\"x_def_avg\"] = float(m.group(2))\n",
    "            continue\n",
    "\n",
    "        m = re.match(rf\"Max Principal Stress.*max=({float_pat}), avg=({float_pat})\", line)\n",
    "        if m:\n",
    "            cur[\"s1_max\"] = float(m.group(1))\n",
    "            cur[\"s1_avg\"] = float(m.group(2))\n",
    "            continue\n",
    "\n",
    "        m = re.match(rf\"Min Principal Stress.*max=({float_pat}), avg=({float_pat})\", line)\n",
    "        if m:\n",
    "            cur[\"s3_max\"] = float(m.group(1))\n",
    "            cur[\"s3_avg\"] = float(m.group(2))\n",
    "            continue\n",
    "\n",
    "        m = re.match(rf\"Von.*max=({float_pat}), avg=({float_pat})\", line)\n",
    "        if m:\n",
    "            cur[\"vm_max\"] = float(m.group(1))\n",
    "            cur[\"vm_avg\"] = float(m.group(2))\n",
    "            rows.append(cur)\n",
    "\n",
    "# 📊 Convert to DataFrame and export\n",
    "df = pd.DataFrame(rows)\n",
    "df.to_csv(output_csv, index=False)\n",
    "\n",
    "print(f\"✅ Parsed {len(df)} result blocks.\")\n",
    "print(f\"📁 Data saved to: {output_csv}\")\n",
    "print(df.head())\n"
   ]
  },
  {
   "cell_type": "code",
   "execution_count": null,
   "id": "9c0863d6-9ca8-48dd-b6aa-026f73b8d56e",
   "metadata": {},
   "outputs": [],
   "source": []
  },
  {
   "cell_type": "code",
   "execution_count": null,
   "id": "ea7953a1-16a9-43e6-8faf-34bfcc20c1b3",
   "metadata": {},
   "outputs": [],
   "source": []
  }
 ],
 "metadata": {
  "kernelspec": {
   "display_name": "fea_env",
   "language": "python",
   "name": "python3"
  },
  "language_info": {
   "codemirror_mode": {
    "name": "ipython",
    "version": 3
   },
   "file_extension": ".py",
   "mimetype": "text/x-python",
   "name": "python",
   "nbconvert_exporter": "python",
   "pygments_lexer": "ipython3",
   "version": "3.10.18"
  }
 },
 "nbformat": 4,
 "nbformat_minor": 5
}
