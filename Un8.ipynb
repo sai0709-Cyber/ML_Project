{
 "cells": [
  {
   "cell_type": "code",
   "execution_count": 1,
   "id": "b6fa3b02-4dad-4c99-ae0e-35b173a8dc9a",
   "metadata": {},
   "outputs": [
    {
     "ename": "ModuleNotFoundError",
     "evalue": "No module named 'run_analysis'",
     "output_type": "error",
     "traceback": [
      "\u001b[1;31m---------------------------------------------------------------------------\u001b[0m",
      "\u001b[1;31mModuleNotFoundError\u001b[0m                       Traceback (most recent call last)",
      "Cell \u001b[1;32mIn[1], line 7\u001b[0m\n\u001b[0;32m      4\u001b[0m \u001b[38;5;28;01mfrom\u001b[39;00m\u001b[38;5;250m \u001b[39m\u001b[38;5;21;01mansys\u001b[39;00m\u001b[38;5;21;01m.\u001b[39;00m\u001b[38;5;21;01mmapdl\u001b[39;00m\u001b[38;5;21;01m.\u001b[39;00m\u001b[38;5;21;01mcore\u001b[39;00m\u001b[38;5;250m \u001b[39m\u001b[38;5;28;01mimport\u001b[39;00m launch_mapdl\n\u001b[0;32m      6\u001b[0m \u001b[38;5;66;03m# ----- Import your existing geometry functions here -----\u001b[39;00m\n\u001b[1;32m----> 7\u001b[0m \u001b[38;5;28;01mfrom\u001b[39;00m\u001b[38;5;250m \u001b[39m\u001b[38;5;21;01mrun_analysis\u001b[39;00m\u001b[38;5;250m \u001b[39m\u001b[38;5;28;01mimport\u001b[39;00m (\n\u001b[0;32m      8\u001b[0m     model_rectangular_beam,\n\u001b[0;32m      9\u001b[0m     model_spherical_beam,\n\u001b[0;32m     10\u001b[0m     init_mapdl,\n\u001b[0;32m     11\u001b[0m )\n\u001b[0;32m     13\u001b[0m output_file \u001b[38;5;241m=\u001b[39m \u001b[38;5;124m\"\u001b[39m\u001b[38;5;124mml_dataset.csv\u001b[39m\u001b[38;5;124m\"\u001b[39m\n\u001b[0;32m     14\u001b[0m header_written \u001b[38;5;241m=\u001b[39m \u001b[38;5;28;01mFalse\u001b[39;00m\n",
      "\u001b[1;31mModuleNotFoundError\u001b[0m: No module named 'run_analysis'"
     ]
    }
   ],
   "source": [
    "import numpy as np\n",
    "import csv\n",
    "from datetime import datetime\n",
    "from ansys.mapdl.core import launch_mapdl\n",
    "\n",
    "# ----- Import your existing geometry functions here -----\n",
    "from run_analysis import (\n",
    "    model_rectangular_beam,\n",
    "    model_spherical_beam,\n",
    "    init_mapdl,\n",
    ")\n",
    "\n",
    "output_file = \"ml_dataset.csv\"\n",
    "header_written = False\n",
    "\n",
    "def run_case(mapdl, shape_name, result, params, writer):\n",
    "    row = [\n",
    "        datetime.now().isoformat(timespec=\"seconds\"),\n",
    "        shape_name,\n",
    "        *params,\n",
    "        result\n",
    "    ]\n",
    "    writer.writerow(row)\n",
    "\n",
    "with open(output_file, \"w\", newline=\"\") as f:\n",
    "    writer = csv.writer(f)\n",
    "    writer.writerow([\n",
    "        \"timestamp\", \"shape\",\n",
    "        \"param1\", \"param2\", \"param3\", \"param4\",  # depends on shape\n",
    "        \"max_deformation\"\n",
    "    ])\n",
    "\n",
    "    # Launch once, reuse MAPDL instance\n",
    "    mapdl = launch_mapdl(port=None, override=True)\n",
    "    mapdl.clear()\n",
    "    mapdl.prep7()\n",
    "    mapdl.units(\"SI\")\n",
    "    mapdl.et(1, \"SOLID185\")\n",
    "    mapdl.mp(\"EX\", 1, 210e9)\n",
    "    mapdl.mp(\"PRXY\", 1, 0.3)\n",
    "\n",
    "    # --- Rectangular beam cases ---\n",
    "    for _ in range(30):\n",
    "        length = np.random.uniform(0.2, 0.6)\n",
    "        width = np.random.uniform(0.02, 0.08)\n",
    "        height = np.random.uniform(0.02, 0.08)\n",
    "        pressure = np.random.uniform(1e6, 8e6)\n",
    "        result = model_rectangular_beam(mapdl, length, width, height, pressure)\n",
    "        run_case(mapdl, \"rect\", result, [length, width, height, pressure], writer)\n",
    "\n",
    "    # --- Sphere (cube-approximation) cases ---\n",
    "    for _ in range(30):\n",
    "        radius = np.random.uniform(0.05, 0.15)\n",
    "        pressure = np.random.uniform(1e6, 8e6)\n",
    "        result = model_spherical_beam(mapdl, radius, pressure)\n",
    "        run_case(mapdl, \"sphere\", result, [radius, None, None, pressure], writer)\n",
    "\n",
    "    mapdl.exit()\n",
    "\n",
    "print(f\"✅ Dataset generated in: {output_file}\")\n",
    "\n"
   ]
  },
  {
   "cell_type": "code",
   "execution_count": null,
   "id": "72cc13bd-3ce4-4563-a766-247c91b911bd",
   "metadata": {},
   "outputs": [],
   "source": []
  }
 ],
 "metadata": {
  "kernelspec": {
   "display_name": "Python [conda env:fea_env]",
   "language": "python",
   "name": "conda-env-fea_env-py"
  },
  "language_info": {
   "codemirror_mode": {
    "name": "ipython",
    "version": 3
   },
   "file_extension": ".py",
   "mimetype": "text/x-python",
   "name": "python",
   "nbconvert_exporter": "python",
   "pygments_lexer": "ipython3",
   "version": "3.10.18"
  }
 },
 "nbformat": 4,
 "nbformat_minor": 5
}
